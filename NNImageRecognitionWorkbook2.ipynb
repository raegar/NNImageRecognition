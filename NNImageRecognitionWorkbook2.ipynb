{
  "nbformat": 4,
  "nbformat_minor": 0,
  "metadata": {
    "colab": {
      "name": "NNImageRecognitionWorkbook.ipynb",
      "provenance": [],
      "collapsed_sections": [],
      "include_colab_link": true
    },
    "kernelspec": {
      "name": "python3",
      "display_name": "Python 3"
    },
    "accelerator": "GPU"
  },
  "cells": [
    {
      "cell_type": "markdown",
      "metadata": {
        "id": "view-in-github",
        "colab_type": "text"
      },
      "source": [
        "<a href=\"https://colab.research.google.com/github/raegar/NNImageRecognition/blob/master/NNImageRecognitionWorkbook2.ipynb\" target=\"_parent\"><img src=\"https://colab.research.google.com/assets/colab-badge.svg\" alt=\"Open In Colab\"/></a>"
      ]
    },
    {
      "cell_type": "markdown",
      "metadata": {
        "id": "nc3YoSMobglh",
        "colab_type": "text"
      },
      "source": [
        "**Step 1**\n",
        "\n",
        "Welcome to part two of your introduction to Machine Learning. Previously we looked at how we can train an AI to solve the algorithm to convert from Celcius to Fahrenheit. Next we will take a look at how we can use Neural Networks to recognise images and catagorise them!\n",
        "\n",
        "First we need some images to work with. As we will need thousands of consistent examples to train our network effectively we will use a publically available set of data known as Fashion MNIST. \n",
        "\n",
        "Let's load a collection of datasets that includes MNIST:"
      ]
    },
    {
      "cell_type": "code",
      "metadata": {
        "id": "1Sl1yehoWSyp",
        "colab_type": "code",
        "colab": {}
      },
      "source": [
        "!pip install -U tensorflow_datasets"
      ],
      "execution_count": 0,
      "outputs": []
    },
    {
      "cell_type": "markdown",
      "metadata": {
        "id": "6ZgiruFgdE0M",
        "colab_type": "text"
      },
      "source": [
        "**Step 2**\n",
        "\n",
        "Next we will import the libaries we will use, TensorFlow, Math, NumPy, PyPlot and TQDM"
      ]
    },
    {
      "cell_type": "code",
      "metadata": {
        "id": "B5U1H-fQWZsA",
        "colab_type": "code",
        "colab": {}
      },
      "source": [
        "from __future__ import absolute_import, division, print_function\n",
        "\n",
        "import tensorflow as tf\n",
        "import tensorflow_datasets as tfds\n",
        "tf.logging.set_verbosity(tf.logging.ERROR)\n",
        "\n",
        "import math\n",
        "import numpy as np\n",
        "import matplotlib.pyplot as plt\n",
        "\n",
        "#impoert better progress bar display\n",
        "import tqdm\n",
        "import tqdm.auto\n",
        "tqdm.tqdm = tqdm.auto.tqdm\n",
        "\n",
        "print(tf.__version__)\n",
        "tf.enable_eager_execution()"
      ],
      "execution_count": 0,
      "outputs": []
    },
    {
      "cell_type": "markdown",
      "metadata": {
        "id": "ZR62nvgMdXmi",
        "colab_type": "text"
      },
      "source": [
        "**Step 3**\n",
        "\n",
        "The Fashion MNIST dataset contains 70,000 images of clothing items with tags letting us know what type of item each one is. We will need to split this collection into 60,000 training images and 10,000 test images so that when we carry out a test we are not using the exact same images that we used to train the model.\n",
        "\n",
        "&nbsp;\n",
        "<table>\n",
        "  <tr><td>\n",
        "    <img src=\"https://tensorflow.org/images/fashion-mnist-sprite.png\"\n",
        "         alt=\"Fashion MNIST sprite\"  width=\"600\">\n",
        "  </td></tr>\n",
        "  <tr><td align=\"center\">\n",
        "    <b>Figure 1.</b> <a href=\"https://github.com/zalandoresearch/fashion-mnist\">Fashion-MNIST samples</a> (by Zalando, MIT License).<br/>&nbsp;\n",
        "  </td></tr>\n",
        "</table>"
      ]
    },
    {
      "cell_type": "code",
      "metadata": {
        "id": "aVm4NEd0WaZg",
        "colab_type": "code",
        "colab": {}
      },
      "source": [
        "dataset, metadata = tfds.load('fashion_mnist', as_supervised=True, with_info=True)\n",
        "train_dataset, test_dataset = dataset['train'], dataset['test']\n",
        "\n",
        "num_train_examples = metadata.splits['train'].num_examples\n",
        "num_test_examples = metadata.splits['test'].num_examples\n",
        "print(\"Number of training examples: {}\".format(num_train_examples))\n",
        "print(\"Number of test examples: {}\".format(num_test_examples))"
      ],
      "execution_count": 0,
      "outputs": []
    },
    {
      "cell_type": "markdown",
      "metadata": {
        "id": "73qMfCIYd2xi",
        "colab_type": "text"
      },
      "source": [
        "**Step 4**\n",
        "\n",
        "Next we will create an array of labels that represet the 10 types of clothing stored in the Fashion MNIST Dataset\n",
        "\n",
        "The images are 28 $\\times$ 28 arrays, with pixel values in the range `[0, 255]`. The *labels* are an array of integers, in the range `[0, 9]`. These correspond to the *class* of clothing the image represents:\n",
        "\n",
        "<table>\n",
        "  <tr>\n",
        "    <th>Label</th>\n",
        "    <th>Class</th> \n",
        "  </tr>\n",
        "  <tr>\n",
        "    <td>0</td>\n",
        "    <td>T-shirt/top</td> \n",
        "  </tr>\n",
        "  <tr>\n",
        "    <td>1</td>\n",
        "    <td>Trouser</td> \n",
        "  </tr>\n",
        "    <tr>\n",
        "    <td>2</td>\n",
        "    <td>Pullover</td> \n",
        "  </tr>\n",
        "    <tr>\n",
        "    <td>3</td>\n",
        "    <td>Dress</td> \n",
        "  </tr>\n",
        "    <tr>\n",
        "    <td>4</td>\n",
        "    <td>Coat</td> \n",
        "  </tr>\n",
        "    <tr>\n",
        "    <td>5</td>\n",
        "    <td>Sandal</td> \n",
        "  </tr>\n",
        "    <tr>\n",
        "    <td>6</td>\n",
        "    <td>Shirt</td> \n",
        "  </tr>\n",
        "    <tr>\n",
        "    <td>7</td>\n",
        "    <td>Sneaker</td> \n",
        "  </tr>\n",
        "    <tr>\n",
        "    <td>8</td>\n",
        "    <td>Bag</td> \n",
        "  </tr>\n",
        "    <tr>\n",
        "    <td>9</td>\n",
        "    <td>Ankle boot</td> \n",
        "  </tr>\n",
        "</table>\n",
        "\n",
        "Each image is mapped to a single label. Since the *class names* are not included with the dataset, store them here to use later when plotting the images"
      ]
    },
    {
      "cell_type": "code",
      "metadata": {
        "id": "TYhEmjBodzWK",
        "colab_type": "code",
        "colab": {}
      },
      "source": [
        ""
      ],
      "execution_count": 0,
      "outputs": []
    },
    {
      "cell_type": "markdown",
      "metadata": {
        "id": "8eaKjx3yeLvq",
        "colab_type": "text"
      },
      "source": [
        "**Step 5**\n",
        "\n",
        "Image data is usually stored in bytes with 8 bits per colour channel. As the MNIST dataset is greyscale it only has 1 channel to represent each pixel. Therefore each pixel is represented by a value from 0 to 255. In order to work with the data it would be a good idea to 'normalize' the values so that we are working with values from 0.0 to 1.0 instead."
      ]
    },
    {
      "cell_type": "code",
      "metadata": {
        "id": "JnjwPOMVWmLB",
        "colab_type": "code",
        "colab": {}
      },
      "source": [
        ""
      ],
      "execution_count": 0,
      "outputs": []
    },
    {
      "cell_type": "markdown",
      "metadata": {
        "id": "UPh6re4We0Na",
        "colab_type": "text"
      },
      "source": [
        "**Step 6**\n",
        "\n",
        "Now that we have the data normalised we can plot it to a grid where each value is a greyscale pixel. Let's take a single image from the dataset, format it as a 28x28 array and then plot it."
      ]
    },
    {
      "cell_type": "code",
      "metadata": {
        "id": "uqKrTIp-WnxS",
        "colab_type": "code",
        "colab": {}
      },
      "source": [
        ""
      ],
      "execution_count": 0,
      "outputs": []
    },
    {
      "cell_type": "markdown",
      "metadata": {
        "id": "v62iFqBdfoFK",
        "colab_type": "text"
      },
      "source": [
        "**Step 7**\n",
        "\n",
        "That works, so let's look at the first 30 images in the set along with their labels."
      ]
    },
    {
      "cell_type": "code",
      "metadata": {
        "id": "Pgi64YeJWp7Y",
        "colab_type": "code",
        "colab": {}
      },
      "source": [
        ""
      ],
      "execution_count": 0,
      "outputs": []
    },
    {
      "cell_type": "markdown",
      "metadata": {
        "id": "pHjxt5Clf0n6",
        "colab_type": "text"
      },
      "source": [
        "**Step 8**\n",
        "\n",
        "In order to build our Neural Network model for training we will first have to flatten each image from a 28x28 single channel matrix into a flat vector (single dimension array). \n",
        "\n",
        "Then we will pass this data through a series of Dense layers, each with 128 Neurons.\n",
        "\n",
        "The Relu function will ensure that any value below 0 will be set to 0 so we don't get negative numbers.\n",
        "\n",
        "Finally the Softmax function will help to categorise each of the results into 1 of 10 possible categories (which is why there are 10 neurons on the final output layer)"
      ]
    },
    {
      "cell_type": "code",
      "metadata": {
        "id": "T0IqL3y4Ws4Q",
        "colab_type": "code",
        "colab": {}
      },
      "source": [
        ""
      ],
      "execution_count": 0,
      "outputs": []
    },
    {
      "cell_type": "markdown",
      "metadata": {
        "id": "nlNo1fDQg2WK",
        "colab_type": "text"
      },
      "source": [
        "**Step 9**\n",
        "\n",
        "We will compile the model that we just defined"
      ]
    },
    {
      "cell_type": "code",
      "metadata": {
        "id": "sF4NlbY8Wuhp",
        "colab_type": "code",
        "colab": {}
      },
      "source": [
        ""
      ],
      "execution_count": 0,
      "outputs": []
    },
    {
      "cell_type": "markdown",
      "metadata": {
        "id": "VZE0zHFKg6ki",
        "colab_type": "text"
      },
      "source": [
        "**Step 10**\n",
        "\n",
        "Now we can train the model using the training dataset and test it with the test dataset. We will split the images up into batches of 32 in order to make the process more discreet (in steps rather than trying to do all 60,000 at once!)"
      ]
    },
    {
      "cell_type": "code",
      "metadata": {
        "id": "UcBU1yasWwgA",
        "colab_type": "code",
        "colab": {}
      },
      "source": [
        ""
      ],
      "execution_count": 0,
      "outputs": []
    },
    {
      "cell_type": "markdown",
      "metadata": {
        "id": "XMzxeOvIhV77",
        "colab_type": "text"
      },
      "source": [
        "**Step 11**\n",
        "\n",
        "We can use the shape property to check that the model actually does take 32 examples and outputs to 10 different catagories:"
      ]
    },
    {
      "cell_type": "code",
      "metadata": {
        "id": "K_DqCLypWyUQ",
        "colab_type": "code",
        "colab": {}
      },
      "source": [
        ""
      ],
      "execution_count": 0,
      "outputs": []
    },
    {
      "cell_type": "markdown",
      "metadata": {
        "id": "YqcB8DNIiDSD",
        "colab_type": "text"
      },
      "source": [
        "Now let's see how confident the model is at prediction if the first image in the set (image 0) is one of our 10 clothing types"
      ]
    },
    {
      "cell_type": "code",
      "metadata": {
        "id": "w4o8c7aNW0gI",
        "colab_type": "code",
        "colab": {}
      },
      "source": [
        ""
      ],
      "execution_count": 0,
      "outputs": []
    },
    {
      "cell_type": "markdown",
      "metadata": {
        "id": "qM93OLlliUfT",
        "colab_type": "text"
      },
      "source": [
        "We can use the argmax function of NumPy to return the idex of the highest (most confident) category"
      ]
    },
    {
      "cell_type": "code",
      "metadata": {
        "id": "xr1AZan1W2BQ",
        "colab_type": "code",
        "colab": {}
      },
      "source": [
        ""
      ],
      "execution_count": 0,
      "outputs": []
    },
    {
      "cell_type": "markdown",
      "metadata": {
        "id": "zsBm0nJIivwj",
        "colab_type": "text"
      },
      "source": [
        "And we can manually compare this value to the actual category of the first item of the set"
      ]
    },
    {
      "cell_type": "code",
      "metadata": {
        "id": "WcczGx6cW3Np",
        "colab_type": "code",
        "colab": {}
      },
      "source": [
        ""
      ],
      "execution_count": 0,
      "outputs": []
    },
    {
      "cell_type": "markdown",
      "metadata": {
        "id": "yvN5lFuvi2sT",
        "colab_type": "text"
      },
      "source": [
        "Hopefully they are the same number!"
      ]
    },
    {
      "cell_type": "markdown",
      "metadata": {
        "id": "mBnweKxPi5Vz",
        "colab_type": "text"
      },
      "source": [
        "**Step 12**\n",
        "\n",
        "We can now plot the first image and a graph of the confidence to see these results"
      ]
    },
    {
      "cell_type": "code",
      "metadata": {
        "id": "7SGxJbgOW6sR",
        "colab_type": "code",
        "colab": {}
      },
      "source": [
        "\n"
      ],
      "execution_count": 0,
      "outputs": []
    },
    {
      "cell_type": "markdown",
      "metadata": {
        "id": "MphdDrTSjTFt",
        "colab_type": "text"
      },
      "source": [
        "**Step 13**\n",
        "\n",
        "Fianlly let's plot the first 25 images and their confidence values for each and see if the algorithm has accurately predicted what they are!"
      ]
    },
    {
      "cell_type": "code",
      "metadata": {
        "id": "sWCpzMl3W9rI",
        "colab_type": "code",
        "colab": {}
      },
      "source": [
        ""
      ],
      "execution_count": 0,
      "outputs": []
    },
    {
      "cell_type": "markdown",
      "metadata": {
        "id": "Rb9UUdIYa-W5",
        "colab_type": "text"
      },
      "source": [
        "**Exercises**\n",
        "\n",
        "Try to improve the fit of the model by changing \n",
        "* the number of layers in the model\n",
        "* the number of neurons in each layer\n",
        "* the number of epochs that the model trains for\n",
        "\n",
        "\n",
        "How does this change the accuracy of the results?"
      ]
    },
    {
      "cell_type": "markdown",
      "metadata": {
        "id": "-SvSXh2wbie8",
        "colab_type": "text"
      },
      "source": [
        "Where to next? To improve the accuarcy of the model further we will need to learn all about [Convolutional Neural Networks or CNNs!](https://towardsdatascience.com/a-comprehensive-guide-to-convolutional-neural-networks-the-eli5-way-3bd2b1164a53)"
      ]
    }
  ]
}